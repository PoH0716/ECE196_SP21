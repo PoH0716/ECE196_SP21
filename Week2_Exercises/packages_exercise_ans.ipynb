{
 "cells": [
  {
   "cell_type": "markdown",
   "metadata": {},
   "source": [
    "# ECE 196 – Python Packages Exercises\n",
    "## Exercise 1 - Numpy"
   ]
  },
  {
   "cell_type": "code",
   "execution_count": 1,
   "metadata": {},
   "outputs": [],
   "source": [
    "import numpy as np"
   ]
  },
  {
   "cell_type": "markdown",
   "metadata": {},
   "source": [
    "1. Create a 10x10 matrix called ```board``` and fill it with a checkerboard pattern of 1 and 0 using Numpy."
   ]
  },
  {
   "cell_type": "code",
   "execution_count": 2,
   "metadata": {},
   "outputs": [
    {
     "name": "stdout",
     "output_type": "stream",
     "text": [
      "[[0. 1. 0. 1. 0. 1. 0. 1. 0. 1.]\n",
      " [1. 0. 1. 0. 1. 0. 1. 0. 1. 0.]\n",
      " [0. 1. 0. 1. 0. 1. 0. 1. 0. 1.]\n",
      " [1. 0. 1. 0. 1. 0. 1. 0. 1. 0.]\n",
      " [0. 1. 0. 1. 0. 1. 0. 1. 0. 1.]\n",
      " [1. 0. 1. 0. 1. 0. 1. 0. 1. 0.]\n",
      " [0. 1. 0. 1. 0. 1. 0. 1. 0. 1.]\n",
      " [1. 0. 1. 0. 1. 0. 1. 0. 1. 0.]\n",
      " [0. 1. 0. 1. 0. 1. 0. 1. 0. 1.]\n",
      " [1. 0. 1. 0. 1. 0. 1. 0. 1. 0.]]\n"
     ]
    }
   ],
   "source": [
    "board = np.zeros((10,10))\n",
    "board[1::2, ::2] = 1\n",
    "board[::2, 1::2] = 1\n",
    "print(board)"
   ]
  },
  {
   "cell_type": "markdown",
   "metadata": {},
   "source": [
    "2. Write a NumPy program to sort an along the first, last axis of ```my_array```."
   ]
  },
  {
   "cell_type": "code",
   "execution_count": 3,
   "metadata": {},
   "outputs": [
    {
     "name": "stdout",
     "output_type": "stream",
     "text": [
      "[[4 6]\n",
      " [2 1]]\n",
      "[[2 1]\n",
      " [4 6]]\n",
      "[[4 6]\n",
      " [1 2]]\n"
     ]
    }
   ],
   "source": [
    "my_array = np.array([[4,6],[2,1]])\n",
    "print(my_array)\n",
    "print(np.sort(my_array, axis=0))\n",
    "print(np.sort(my_array, axis=-1))"
   ]
  },
  {
   "cell_type": "markdown",
   "metadata": {},
   "source": [
    "3. \n",
    "a) Write a NumPy program to create an array named ```array``` with values ranging from 5 to 30."
   ]
  },
  {
   "cell_type": "code",
   "execution_count": 4,
   "metadata": {},
   "outputs": [
    {
     "name": "stdout",
     "output_type": "stream",
     "text": [
      "[ 5  6  7  8  9 10 11 12 13 14 15 16 17 18 19 20 21 22 23 24 25 26 27 28\n",
      " 29 30]\n"
     ]
    }
   ],
   "source": [
    "array = np.arange(5,31)\n",
    "print(array)"
   ]
  },
  {
   "cell_type": "markdown",
   "metadata": {},
   "source": [
    "b) Create a sub array ```array1``` that contains every third value starting at 7 and another sub array ```array2``` that contains every second value starting at 15."
   ]
  },
  {
   "cell_type": "code",
   "execution_count": 5,
   "metadata": {},
   "outputs": [
    {
     "name": "stdout",
     "output_type": "stream",
     "text": [
      "[ 7 10 13 16 19 22 25 28]\n",
      "[15 17 19 21 23 25 27 29]\n"
     ]
    }
   ],
   "source": [
    "array1 = array[2::3]\n",
    "array2 = array[10::2]\n",
    "print(array1)\n",
    "print(array2)"
   ]
  },
  {
   "cell_type": "markdown",
   "metadata": {},
   "source": [
    "c) Compare ```array1``` and ```array2``` using `> >= == <= <`."
   ]
  },
  {
   "cell_type": "code",
   "execution_count": 6,
   "metadata": {},
   "outputs": [
    {
     "name": "stdout",
     "output_type": "stream",
     "text": [
      "[False False False False False False False False]\n",
      "[False False False False False False False False]\n",
      "[False False False False False False False False]\n",
      "[ True  True  True  True  True  True  True  True]\n",
      "[ True  True  True  True  True  True  True  True]\n"
     ]
    }
   ],
   "source": [
    "print(array1 > array2)\n",
    "print(array1 >= array2)\n",
    "print(array1 == array2)\n",
    "print(array1 <= array2)\n",
    "print(array1 < array2)"
   ]
  },
  {
   "cell_type": "markdown",
   "metadata": {},
   "source": [
    "d) Make ```array1``` a 4x2 matrix and ```array2``` a 2x4 matrix."
   ]
  },
  {
   "cell_type": "code",
   "execution_count": 7,
   "metadata": {},
   "outputs": [
    {
     "name": "stdout",
     "output_type": "stream",
     "text": [
      "[[ 7 10]\n",
      " [13 16]\n",
      " [19 22]\n",
      " [25 28]]\n",
      "[[15 17 19 21]\n",
      " [23 25 27 29]]\n"
     ]
    }
   ],
   "source": [
    "array1 = array1.reshape(4,2)\n",
    "array2 = array2.reshape(2,4)\n",
    "print(array1)\n",
    "print(array2)"
   ]
  },
  {
   "cell_type": "markdown",
   "metadata": {},
   "source": [
    "e)Try adding 2 to ```array1```.  \n",
    "Now try multiplying ```array2``` by ```array3```.  \n",
    "Can you add ```array1``` and ```array2```?  \n",
    "Can you multiply ```array1``` and ```array2```?  \n",
    "What happens when you try dot product on ```array1``` and ```array2```?"
   ]
  },
  {
   "cell_type": "code",
   "execution_count": 8,
   "metadata": {},
   "outputs": [
    {
     "name": "stdout",
     "output_type": "stream",
     "text": [
      "[[ 9 12]\n",
      " [15 18]\n",
      " [21 24]\n",
      " [27 30]]\n",
      "[[30 34 42 42]\n",
      " [46 54 54 58]]\n",
      "[[4812 3240]\n",
      " [6624 4560]]\n",
      "[[ 822  954 1026 1074]\n",
      " [1278 1482 1602 1674]\n",
      " [2364 2724 3060 3156]\n",
      " [3000 3456 3888 4008]]\n"
     ]
    }
   ],
   "source": [
    "array3 = np.full((2, 4), 2)\n",
    "\n",
    "array1 += 2\n",
    "print(array1)\n",
    "\n",
    "array2 *= array3\n",
    "print(array2)\n",
    "\n",
    "# array1 + array2    # broadcast error\n",
    "# array1 * array2    # broadcast error\n",
    "dot_product1 = np.dot(array2,array1)\n",
    "dot_product2 = array1.dot(array2)\n",
    "print(dot_product1)\n",
    "print(dot_product2)"
   ]
  },
  {
   "cell_type": "code",
   "execution_count": null,
   "metadata": {},
   "outputs": [],
   "source": []
  }
 ],
 "metadata": {
  "kernelspec": {
   "display_name": "Python 3",
   "language": "python",
   "name": "python3"
  },
  "language_info": {
   "codemirror_mode": {
    "name": "ipython",
    "version": 3
   },
   "file_extension": ".py",
   "mimetype": "text/x-python",
   "name": "python",
   "nbconvert_exporter": "python",
   "pygments_lexer": "ipython3",
   "version": "3.7.2"
  }
 },
 "nbformat": 4,
 "nbformat_minor": 2
}
