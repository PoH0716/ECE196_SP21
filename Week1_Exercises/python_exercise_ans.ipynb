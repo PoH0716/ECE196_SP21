{
 "cells": [
  {
   "cell_type": "markdown",
   "metadata": {},
   "source": [
    "## Exercise 1"
   ]
  },
  {
   "cell_type": "markdown",
   "metadata": {},
   "source": [
    "1. Create a list called ```list_1``` containing the ints from 1 to 10."
   ]
  },
  {
   "cell_type": "code",
   "execution_count": 1,
   "metadata": {},
   "outputs": [
    {
     "name": "stdout",
     "output_type": "stream",
     "text": [
      "[1, 2, 3, 4, 5, 6, 7, 8, 9, 10]\n"
     ]
    }
   ],
   "source": [
    "list_1 = [i for i in range(1, 11)]\n",
    "print(list_1)"
   ]
  },
  {
   "cell_type": "markdown",
   "metadata": {},
   "source": [
    "2. Create a second list ```list_2``` containing 11-20, but create them **as floats** this time."
   ]
  },
  {
   "cell_type": "code",
   "execution_count": 2,
   "metadata": {},
   "outputs": [
    {
     "name": "stdout",
     "output_type": "stream",
     "text": [
      "[11.0, 12.0, 13.0, 14.0, 15.0, 16.0, 17.0, 18.0, 19.0, 20.0]\n"
     ]
    }
   ],
   "source": [
    "list_2 = [float(i) for i in range(11, 21)]\n",
    "print(list_2)"
   ]
  },
  {
   "cell_type": "markdown",
   "metadata": {},
   "source": [
    "3. Create a tuple called ```tup``` containing the words \"one\", \"two\", \"three\", \"four\", and \"five\". Assign it to the first five elements from ```list_1```.  \n",
    "Print ```list_1```. It should look like: ```['one', 'two', 'three', 'four', 'five', 6, 7, 8, 9, 10]```"
   ]
  },
  {
   "cell_type": "code",
   "execution_count": 3,
   "metadata": {},
   "outputs": [
    {
     "name": "stdout",
     "output_type": "stream",
     "text": [
      "['one', 'two', 'three', 'four', 'five', 6, 7, 8, 9, 10]\n"
     ]
    }
   ],
   "source": [
    "tup = ('one', 'two', 'three', 'four', 'five')\n",
    "list_1[:5] = tup\n",
    "print(list_1)"
   ]
  },
  {
   "cell_type": "markdown",
   "metadata": {},
   "source": [
    "4. Update ```list_1``` so that its last 5 elements get replaced with the list ```[\"six\", \"seven\", \"eight\", \"nine\", \"ten\"]```  \n",
    "Print ```list_1``` and the output should look like: ```['one', 'two', 'three', 'four', 'five', 'six', 'seven', 'eight', 'nine', 'ten']```"
   ]
  },
  {
   "cell_type": "code",
   "execution_count": 4,
   "metadata": {},
   "outputs": [
    {
     "name": "stdout",
     "output_type": "stream",
     "text": [
      "['one', 'two', 'three', 'four', 'five', 'six', 'seven', 'eight', 'nine', 'ten']\n"
     ]
    }
   ],
   "source": [
    "list_1[-5:] = [\"six\", \"seven\", \"eight\", \"nine\", \"ten\"]\n",
    "print(list_1)"
   ]
  },
  {
   "cell_type": "markdown",
   "metadata": {},
   "source": [
    "5. Create a dicionary called ```my_dictionary``` where the keys are elements from ```list_1``` and corresponding vlaues are elements from ```list_2```   \n",
    "Print ```my_dictionary```. It should look like: ```{'one': 11.0, 'two': 12.0, 'three': 13.0, 'four': 14.0, 'five': 15.0, 'six': 16.0, 'seven': 17.0, 'eight': 18.0, 'nine': 19.0, 'ten': 20.0}```"
   ]
  },
  {
   "cell_type": "code",
   "execution_count": 5,
   "metadata": {},
   "outputs": [
    {
     "name": "stdout",
     "output_type": "stream",
     "text": [
      "{'one': 11.0, 'two': 12.0, 'three': 13.0, 'four': 14.0, 'five': 15.0, 'six': 16.0, 'seven': 17.0, 'eight': 18.0, 'nine': 19.0, 'ten': 20.0}\n"
     ]
    }
   ],
   "source": [
    "my_dictionary = {key: value for key, value in zip(list_1, list_2)}\n",
    "print(my_dictionary)"
   ]
  },
  {
   "cell_type": "markdown",
   "metadata": {},
   "source": [
    "6. Write a function called ```squared_max``` that compares 2 numbers, a and b, and return the larger number squared"
   ]
  },
  {
   "cell_type": "code",
   "execution_count": 6,
   "metadata": {},
   "outputs": [],
   "source": [
    "def squared_max(a, b):\n",
    "    if a >= b:\n",
    "        return a**2\n",
    "    else:\n",
    "        return b**2"
   ]
  },
  {
   "cell_type": "markdown",
   "metadata": {},
   "source": [
    "7. Create a dictionary ```another_dict``` that contains the key-value pairs in ```my_dictionary``` whose values are even. Update the values in ```another_dict``` by passing them through the ```squared_max``` function, compared with 15. Print ```another_dict``` and see if yours matches ```{'two': 225, 'four': 225, 'six': 256.0, 'eight': 324.0, 'ten': 400.0}```"
   ]
  },
  {
   "cell_type": "code",
   "execution_count": 7,
   "metadata": {},
   "outputs": [
    {
     "name": "stdout",
     "output_type": "stream",
     "text": [
      "{'two': 225, 'four': 225, 'six': 256.0, 'eight': 324.0, 'ten': 400.0}\n"
     ]
    }
   ],
   "source": [
    "another_dict = dict()\n",
    "for key in my_dictionary:\n",
    "    if my_dictionary[key]%2 == 0:\n",
    "        another_dict[key] = squared_max(15, my_dictionary[key])\n",
    "    else:\n",
    "        continue\n",
    "print(another_dict)"
   ]
  },
  {
   "cell_type": "markdown",
   "metadata": {},
   "source": [
    "## Exercise 2"
   ]
  },
  {
   "cell_type": "markdown",
   "metadata": {},
   "source": [
    "1. Create a function called ```list_shift``` that accepts a **fixed length** list and a **to-append** list as arguments. It should output a new list that has the same length as the fixed-length list with its elements updated by the to_append list\n",
    "\n",
    "    Output should look like:\n",
    "\n",
    "    ```python\n",
    "    >> fixed_length_list = [1,2,3,4]\n",
    "    >> to_append_list = [5,6,7]\n",
    "    >> list_shift(fixed_length_list, to_append_list)\n",
    "    [4,5,6,7]\n",
    "    ```"
   ]
  },
  {
   "cell_type": "code",
   "execution_count": 8,
   "metadata": {},
   "outputs": [
    {
     "name": "stdout",
     "output_type": "stream",
     "text": [
      "1. [1, 2, 3, 4]\n",
      "2. [1, 2, 3, 4, 5]\n",
      "3. [2, 3, 4, 5]\n",
      "1. [2, 3, 4, 5]\n",
      "2. [2, 3, 4, 5, 6]\n",
      "3. [3, 4, 5, 6]\n",
      "1. [3, 4, 5, 6]\n",
      "2. [3, 4, 5, 6, 7]\n",
      "3. [4, 5, 6, 7]\n"
     ]
    },
    {
     "data": {
      "text/plain": [
       "[4, 5, 6, 7]"
      ]
     },
     "execution_count": 8,
     "metadata": {},
     "output_type": "execute_result"
    }
   ],
   "source": [
    "def list_shift(base_list, new_list):\n",
    "    for element in new_list:\n",
    "        base_list.append(element)\n",
    "        base_list.pop(0)\n",
    "    return base_list\n",
    "\n",
    "fixed_length_list = [1,2,3,4]\n",
    "to_append_list = [5,6,7]\n",
    "list_shift(fixed_length_list, to_append_list)"
   ]
  },
  {
   "cell_type": "markdown",
   "metadata": {},
   "source": [
    "## Exercise 3"
   ]
  },
  {
   "cell_type": "markdown",
   "metadata": {},
   "source": [
    "1. Create a list called ```my_list``` containing the ints from 3 to 15."
   ]
  },
  {
   "cell_type": "code",
   "execution_count": 9,
   "metadata": {},
   "outputs": [
    {
     "name": "stdout",
     "output_type": "stream",
     "text": [
      "[3, 4, 5, 6, 7, 8, 9, 10, 11, 12, 13, 14, 15]\n"
     ]
    }
   ],
   "source": [
    "my_list = [i for i in range(3, 16)]\n",
    "print(my_list)"
   ]
  },
  {
   "cell_type": "markdown",
   "metadata": {},
   "source": [
    "2. Create a function called ```sliding_window``` that moves a sliding window to scans through a list and returns the list of average of each window. The function should take a positional argument ```data```, which is the list we want to analyze, and default arguments ```win_size``` and ```step_size```. ```win_size``` determines the number of elements within each window and ```step_size``` determines how many elements are between each window. Test your results with different function parameters.\n",
    "\n",
    "    Output should look like:\n",
    "\n",
    "    ```python\n",
    "    >> example_list = [1,2,3,4]\n",
    "    >> sliding_window(example_list, win_size=3, step_size=1)\n",
    "    [2, 3]\n",
    "    ```\n",
    "    Explanation:\n",
    "    The first window should cover ```example_list[0]```, ```example_list[1]```, and ```example_list[2]```. We sum up 1, 2, 3 and divide by 3 to get the average 2. The next window is 1 apart from the first and should cover ```example_list[1]```, ```example_list[2]```, and ```example_list[3]```. We sum up 2, 3, 4 and divide by 3 to get the average 3. [2, 3] is then returned by the function.\n",
    "![Sliding_Window](../media/Sliding-Window-Protocol.jpg)"
   ]
  },
  {
   "cell_type": "markdown",
   "metadata": {},
   "source": [
    "You should get the following outputs:\n",
    "```python\n",
    ">> sliding_window(my_list)\n",
    "[4.5, 5.5, 6.5, 7.5, 8.5, 9.5, 10.5, 11.5, 12.5, 13.5]\n",
    ">> sliding_window(my_list, 2, 2)\n",
    "[3.5, 5.5, 7.5, 9.5, 11.5, 13.5]\n",
    "```"
   ]
  },
  {
   "cell_type": "code",
   "execution_count": 12,
   "metadata": {},
   "outputs": [],
   "source": [
    "def sliding_window(data, win_size=4, step_size=1):\n",
    "    avg_win = []\n",
    "    for i in range(0, len(data)-win_size+1, step_size):\n",
    "        summation = 0\n",
    "        for j in range(i, i+win_size):\n",
    "            summation += data[j]\n",
    "        avg = summation/win_size\n",
    "        avg_win.append(avg)\n",
    "    \n",
    "    return avg_win"
   ]
  },
  {
   "cell_type": "code",
   "execution_count": 11,
   "metadata": {},
   "outputs": [
    {
     "name": "stdout",
     "output_type": "stream",
     "text": [
      "[4.5, 5.5, 6.5, 7.5, 8.5, 9.5, 10.5, 11.5, 12.5, 13.5]\n"
     ]
    }
   ],
   "source": [
    "result = sliding_window(my_list)\n",
    "print(result)"
   ]
  },
  {
   "cell_type": "code",
   "execution_count": null,
   "metadata": {},
   "outputs": [],
   "source": []
  }
 ],
 "metadata": {
  "kernelspec": {
   "display_name": "Python 3",
   "language": "python",
   "name": "python3"
  },
  "language_info": {
   "codemirror_mode": {
    "name": "ipython",
    "version": 3
   },
   "file_extension": ".py",
   "mimetype": "text/x-python",
   "name": "python",
   "nbconvert_exporter": "python",
   "pygments_lexer": "ipython3",
   "version": "3.7.2"
  }
 },
 "nbformat": 4,
 "nbformat_minor": 2
}
